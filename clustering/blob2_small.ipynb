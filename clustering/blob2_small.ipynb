{
 "cells": [
  {
   "cell_type": "code",
   "execution_count": null,
   "metadata": {},
   "outputs": [],
   "source": [
    "%load_ext autoreload\n",
    "\n",
    "import sys\n",
    "import os\n",
    "\n",
    "import numpy as np\n",
    "nax = np.newaxis\n",
    "import pandas as pd\n",
    "\n",
    "from pathlib import Path \n",
    "path = Path(\"../spqubolib\").resolve().as_posix()\n",
    "sys.path.append(path)\n",
    "\n",
    "from blob_experiment import build_q, generate_problem\n",
    "from blob_plot import plot_problem\n",
    "from blob2_plot import plot"
   ]
  },
  {
   "cell_type": "code",
   "execution_count": null,
   "metadata": {},
   "outputs": [],
   "source": [
    "image_path = \"images/blob2_small\"\n",
    "\n",
    "os.makedirs(image_path, exist_ok=True)"
   ]
  },
  {
   "attachments": {},
   "cell_type": "markdown",
   "metadata": {},
   "source": [
    "## Problem 2 (small problem for visualization)"
   ]
  },
  {
   "attachments": {},
   "cell_type": "markdown",
   "metadata": {},
   "source": [
    "## setting parameters"
   ]
  },
  {
   "cell_type": "code",
   "execution_count": null,
   "metadata": {},
   "outputs": [],
   "source": [
    "#### setting parameters ####\n",
    "\n",
    "# problem size\n",
    "B, D, K, Nk = 11, 2, 7, 5 # = (B, D, K, M)\n",
    "# problem parameter\n",
    "Ainte, Acnt = 1, 50 # C = 50"
   ]
  },
  {
   "attachments": {},
   "cell_type": "markdown",
   "metadata": {},
   "source": [
    "## make problem"
   ]
  },
  {
   "cell_type": "code",
   "execution_count": null,
   "metadata": {},
   "outputs": [
    {
     "name": "stdout",
     "output_type": "stream",
     "text": [
      "possible_points: 121\n",
      "possible_spins: 847\n",
      "arr size: 5733\n",
      "16 5\n",
      "15 5\n",
      "16 5\n",
      "15 5\n",
      "19 5\n",
      "18 5\n",
      "22 5\n",
      "points: 35\n",
      "spins: 245\n",
      "spins**2: 60025\n",
      "function_to_J_higher\n",
      "build high_qmodel_sparse\n"
     ]
    }
   ],
   "source": [
    "%autoreload\n",
    "\n",
    "rng = np.random.default_rng(0)\n",
    "\n",
    "B_list = np.array([B] * D)\n",
    "df_prob = generate_problem(rng, K, B_list, Nk)\n",
    "\n",
    "num_points = df_prob.shape[0]\n",
    "num_spins = num_points * K\n",
    "print(f\"points: {num_points}\")\n",
    "print(f\"spins: {num_spins}\")\n",
    "print(f\"spins**2: {num_spins**2}\")\n",
    "\n",
    "ret = []\n",
    "for k in range(K):\n",
    "    df_ = df_prob.copy()\n",
    "    df_[\"k\"] = k\n",
    "    ret.append(df_)\n",
    "ret = pd.concat(ret, axis=0)\n",
    "\n",
    "q, _, _ = build_q(B, D, K, ret[list(np.arange(D)) + [\"k\"]].values, Ainte, Acnt)\n",
    "q.set_mode(\"fourier\")"
   ]
  },
  {
   "attachments": {},
   "cell_type": "markdown",
   "metadata": {},
   "source": [
    "## plot problem"
   ]
  },
  {
   "cell_type": "code",
   "execution_count": null,
   "metadata": {},
   "outputs": [],
   "source": [
    "%autoreload\n",
    "\n",
    "plot_problem(df_prob, B, f\"{image_path}/blob_problem_small.png\")"
   ]
  },
  {
   "attachments": {},
   "cell_type": "markdown",
   "metadata": {},
   "source": [
    "## plot mapping and interactions"
   ]
  },
  {
   "cell_type": "code",
   "execution_count": 5,
   "metadata": {},
   "outputs": [
    {
     "name": "stdout",
     "output_type": "stream",
     "text": [
      "raveled problem size: 273 21\n"
     ]
    },
    {
     "data": {
      "text/html": [
       "<div>\n",
       "<style scoped>\n",
       "    .dataframe tbody tr th:only-of-type {\n",
       "        vertical-align: middle;\n",
       "    }\n",
       "\n",
       "    .dataframe tbody tr th {\n",
       "        vertical-align: top;\n",
       "    }\n",
       "\n",
       "    .dataframe thead th {\n",
       "        text-align: right;\n",
       "    }\n",
       "</style>\n",
       "<table border=\"1\" class=\"dataframe\">\n",
       "  <thead>\n",
       "    <tr style=\"text-align: right;\">\n",
       "      <th></th>\n",
       "      <th>0</th>\n",
       "    </tr>\n",
       "  </thead>\n",
       "  <tbody>\n",
       "    <tr>\n",
       "      <th>0.01</th>\n",
       "      <td>0.00000</td>\n",
       "    </tr>\n",
       "    <tr>\n",
       "      <th>0.05</th>\n",
       "      <td>0.00000</td>\n",
       "    </tr>\n",
       "    <tr>\n",
       "      <th>0.95</th>\n",
       "      <td>0.72111</td>\n",
       "    </tr>\n",
       "    <tr>\n",
       "      <th>0.99</th>\n",
       "      <td>1.16619</td>\n",
       "    </tr>\n",
       "  </tbody>\n",
       "</table>\n",
       "</div>"
      ],
      "text/plain": [
       "            0\n",
       "0.01  0.00000\n",
       "0.05  0.00000\n",
       "0.95  0.72111\n",
       "0.99  1.16619"
      ]
     },
     "metadata": {},
     "output_type": "display_data"
    },
    {
     "data": {
      "text/html": [
       "<div>\n",
       "<style scoped>\n",
       "    .dataframe tbody tr th:only-of-type {\n",
       "        vertical-align: middle;\n",
       "    }\n",
       "\n",
       "    .dataframe tbody tr th {\n",
       "        vertical-align: top;\n",
       "    }\n",
       "\n",
       "    .dataframe thead th {\n",
       "        text-align: right;\n",
       "    }\n",
       "</style>\n",
       "<table border=\"1\" class=\"dataframe\">\n",
       "  <thead>\n",
       "    <tr style=\"text-align: right;\">\n",
       "      <th></th>\n",
       "      <th>0</th>\n",
       "    </tr>\n",
       "  </thead>\n",
       "  <tbody>\n",
       "    <tr>\n",
       "      <th>0.01</th>\n",
       "      <td>-91.958961</td>\n",
       "    </tr>\n",
       "    <tr>\n",
       "      <th>0.05</th>\n",
       "      <td>-52.916996</td>\n",
       "    </tr>\n",
       "    <tr>\n",
       "      <th>0.95</th>\n",
       "      <td>599.916748</td>\n",
       "    </tr>\n",
       "    <tr>\n",
       "      <th>0.99</th>\n",
       "      <td>599.954468</td>\n",
       "    </tr>\n",
       "  </tbody>\n",
       "</table>\n",
       "</div>"
      ],
      "text/plain": [
       "               0\n",
       "0.01  -91.958961\n",
       "0.05  -52.916996\n",
       "0.95  599.916748\n",
       "0.99  599.954468"
      ]
     },
     "metadata": {},
     "output_type": "display_data"
    }
   ],
   "source": [
    "print(\"raveled problem size:\", q.Lx, q.Ly)\n",
    "display(pd.DataFrame(q.J.ravel()).quantile([0.01,0.05,0.95,0.99]))\n",
    "display(pd.DataFrame(q.get_f_J().ravel()).quantile([0.01,0.05,0.95,0.99]))"
   ]
  },
  {
   "cell_type": "code",
   "execution_count": null,
   "metadata": {},
   "outputs": [
    {
     "data": {
      "image/png": "[encoded data removed]",
      "text/plain": [
       "<Figure size 1200x400 with 6 Axes>"
      ]
     },
     "metadata": {},
     "output_type": "display_data"
    }
   ],
   "source": [
    "%autoreload\n",
    "\n",
    "plot(q, f\"{image_path}/mapping_small.png\")"
   ]
  },
  {
   "cell_type": "code",
   "execution_count": null,
   "metadata": {},
   "outputs": [],
   "source": []
  }
 ],
 "metadata": {
  "kernelspec": {
   "display_name": "Python 3",
   "language": "python",
   "name": "python3"
  },
  "language_info": {
   "codemirror_mode": {
    "name": "ipython",
    "version": 3
   },
   "file_extension": ".py",
   "mimetype": "text/x-python",
   "name": "python",
   "nbconvert_exporter": "python",
   "pygments_lexer": "ipython3",
   "version": "3.11.12"
  },
  "orig_nbformat": 4
 },
 "nbformat": 4,
 "nbformat_minor": 2
}
