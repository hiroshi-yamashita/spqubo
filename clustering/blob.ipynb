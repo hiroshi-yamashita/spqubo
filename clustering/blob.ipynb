{
 "cells": [
  {
   "cell_type": "code",
   "execution_count": null,
   "metadata": {},
   "outputs": [
    {
     "name": "stdout",
     "output_type": "stream",
     "text": [
      "The autoreload extension is already loaded. To reload it, use:\n",
      "  %reload_ext autoreload\n"
     ]
    }
   ],
   "source": [
    "%load_ext autoreload\n",
    "\n",
    "import sys\n",
    "import os\n",
    "import pickle as pk\n",
    "\n",
    "import numpy as np\n",
    "nax = np.newaxis\n",
    "import pandas as pd\n",
    "\n",
    "from pathlib import Path \n",
    "path = Path(\"../spqubolib\").resolve().as_posix()\n",
    "sys.path.append(path)\n",
    "if True:\n",
    "    from spqubolib.qubo import qubo\n",
    "    from spqubolib.solver import MA_solver\n",
    "\n",
    "from blob_experiment import build_q, generate_problem, timer\n",
    "from blob_plot import plot_problem, plot_answer, plot_answer_2_scatter"
   ]
  },
  {
   "cell_type": "code",
   "execution_count": null,
   "metadata": {},
   "outputs": [],
   "source": [
    "flag_plot = True\n",
    "flag_run = False\n",
    "result_path = \"run\"\n",
    "image_path = \"images/blob\"\n",
    "\n",
    "STAGE = os.environ.get(\"STAGE\", \"\")\n",
    "print(\"STAGE ==\", STAGE)\n",
    "if STAGE==\"run\":\n",
    "    flag_plot = False\n",
    "    flag_run = True\n",
    "    os.makedirs(result_path, exist_ok=True)\n",
    "elif STAGE==\"plot\":\n",
    "    flag_plot = True\n",
    "    flag_run = False\n",
    "    os.makedirs(image_path, exist_ok=True)"
   ]
  },
  {
   "attachments": {},
   "cell_type": "markdown",
   "metadata": {},
   "source": [
    "# Problem 1"
   ]
  },
  {
   "attachments": {},
   "cell_type": "markdown",
   "metadata": {},
   "source": [
    "## setting parameters"
   ]
  },
  {
   "cell_type": "code",
   "execution_count": null,
   "metadata": {},
   "outputs": [],
   "source": [
    "#### setting parameters ####\n",
    "\n",
    "# problem size\n",
    "B, D, K, Nk = 51, 2, 7, 100 # = (B, D, K, M)\n",
    "# problem parameter\n",
    "Ainte, Acnt = 1, 50 # C = 50\n",
    "\n",
    "# solver parameter\n",
    "num_steps = 1000 # T_0 = 1000\n",
    "p_const1 = 0.5 # p_0 = 0.5\n",
    "p_const2_relative = 1\n",
    "beta0 = 1 # \\beta_0 = 1\n",
    "c_const1_relative = 0.5 # theta_1 = 1 / 0.5 = 2\n",
    "seed = 0"
   ]
  },
  {
   "attachments": {},
   "cell_type": "markdown",
   "metadata": {},
   "source": [
    "## make problem and seriarize"
   ]
  },
  {
   "cell_type": "code",
   "execution_count": null,
   "metadata": {},
   "outputs": [],
   "source": [
    "%autoreload\n",
    "\n",
    "if flag_run:\n",
    "    rng = np.random.default_rng(0)\n",
    "    B_list = np.array([B] * D)\n",
    "    df_prob = generate_problem(rng, K, B_list, Nk)\n",
    "\n",
    "    num_points = df_prob.shape[0]\n",
    "    num_spins = num_points * K\n",
    "    print(f\"points: {num_points}\")\n",
    "    print(f\"spins: {num_spins}\")\n",
    "    print(f\"spins**2: {num_spins**2}\")\n",
    "\n",
    "    ret = []\n",
    "    for k in range(K):\n",
    "        df_ = df_prob.copy()\n",
    "        df_[\"k\"] = k\n",
    "        ret.append(df_)\n",
    "    ret = pd.concat(ret, axis=0)\n",
    "\n",
    "    q, _, _ = build_q(B, D, K, ret[list(np.arange(D)) + [\"k\"]].values, Ainte, Acnt)\n",
    "    q.set_mode(\"fourier\")\n",
    "\n",
    "    with open(f\"{result_path}/blob_problem.pk\", \"wb\") as f:\n",
    "        pk.dump(df_prob, file=f)"
   ]
  },
  {
   "attachments": {},
   "cell_type": "markdown",
   "metadata": {},
   "source": [
    "## load problem"
   ]
  },
  {
   "cell_type": "code",
   "execution_count": null,
   "metadata": {},
   "outputs": [],
   "source": [
    "%autoreload\n",
    "\n",
    "with open(f\"{result_path}/blob_problem.pk\", \"rb\") as f:\n",
    "    df_prob = pk.load(f)\n",
    "\n",
    "if flag_plot:\n",
    "    plot_problem(df_prob, B, f\"{image_path}/blob_problem.pdf\", subcaption=\"a\")"
   ]
  },
  {
   "attachments": {},
   "cell_type": "markdown",
   "metadata": {},
   "source": [
    "## solve by momentum annealing"
   ]
  },
  {
   "cell_type": "code",
   "execution_count": null,
   "metadata": {},
   "outputs": [],
   "source": [
    "%autoreload\n",
    "\n",
    "if flag_run:\n",
    "    prob_f = qubo(q, mode=\"min\", vartype=\"binary\")\n",
    "\n",
    "    for label, prob in [(\"fourier\", prob_f)]:\n",
    "        solver = MA_solver(\n",
    "            K = num_steps,\n",
    "            save_ignore=[\"I_log\"],\n",
    "            p_const1 = p_const1,  # 0.5\n",
    "            p_const2 = num_steps * p_const2_relative,  # 1000\n",
    "            beta0 = beta0,  # 1\n",
    "            c_const1 = num_steps * c_const1_relative,  # 500\n",
    "            seed = seed,\n",
    "            filename_log=f\"{result_path}/MA_log_blob.npz\"\n",
    "        )\n",
    "\n",
    "        with timer() as t:\n",
    "            ans, L_ans = prob.solve(solver)\n",
    "        elapsed = t.t\n",
    "\n",
    "        np.savez(f\"{result_path}/blob_answer.npz\",\n",
    "            ans = ans,\n",
    "            K = K,\n",
    "            Nk = Nk,\n",
    "            label = label)"
   ]
  },
  {
   "attachments": {},
   "cell_type": "markdown",
   "metadata": {},
   "source": [
    "## plot results"
   ]
  },
  {
   "attachments": {},
   "cell_type": "markdown",
   "metadata": {},
   "source": [
    "### plot answer"
   ]
  },
  {
   "cell_type": "code",
   "execution_count": null,
   "metadata": {},
   "outputs": [],
   "source": [
    "%autoreload\n",
    "\n",
    "def load_and_plot_answer():\n",
    "    data = np.load(f\"{result_path}/blob_answer.npz\")\n",
    "    ans = data[\"ans\"]\n",
    "    K = data[\"K\"]\n",
    "    Nk = data[\"Nk\"]\n",
    "    label = data[\"label\"]\n",
    "    plot_answer(ans, K, Nk, f\"{image_path}/blob_answer.png\")\n",
    "\n",
    "if flag_plot:\n",
    "    load_and_plot_answer()"
   ]
  },
  {
   "cell_type": "code",
   "execution_count": null,
   "metadata": {},
   "outputs": [
    {
     "name": "stderr",
     "output_type": "stream",
     "text": [
      "/Users/hiroshi_yamashita/GoogleDrive/kenkyu/ising/fourier_publish_20231102/spqubo_experiments/clustering/blob_plot.py:96: UserWarning: *c* argument looks like a single numeric RGB or RGBA sequence, which should be avoided as value-mapping will have precedence in case its length matches with *x* & *y*.  Please use the *color* keyword-argument or provide a 2D array with a single row if you intend to specify the same RGB or RGBA value for all points.\n",
      "  \n"
     ]
    }
   ],
   "source": [
    "%autoreload\n",
    "\n",
    "def load_and_plot_answer_2():\n",
    "    data = np.load(f\"{result_path}/blob_answer.npz\")\n",
    "    ans = data[\"ans\"]\n",
    "    K = data[\"K\"]\n",
    "    Nk = data[\"Nk\"]\n",
    "    label = data[\"label\"]\n",
    "    plot_answer_2_scatter(df_prob, B, ans, K, Nk, f\"{image_path}/blob_answer_2.pdf\", subcaption=\"b\")\n",
    "\n",
    "if flag_plot:\n",
    "    load_and_plot_answer_2()"
   ]
  },
  {
   "cell_type": "code",
   "execution_count": null,
   "metadata": {},
   "outputs": [],
   "source": []
  }
 ],
 "metadata": {
  "kernelspec": {
   "display_name": "Python 3",
   "language": "python",
   "name": "python3"
  },
  "language_info": {
   "codemirror_mode": {
    "name": "ipython",
    "version": 3
   },
   "file_extension": ".py",
   "mimetype": "text/x-python",
   "name": "python",
   "nbconvert_exporter": "python",
   "pygments_lexer": "ipython3",
   "version": "3.11.12"
  },
  "orig_nbformat": 4
 },
 "nbformat": 4,
 "nbformat_minor": 2
}
