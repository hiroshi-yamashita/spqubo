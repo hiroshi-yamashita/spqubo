{
 "cells": [
  {
   "cell_type": "code",
   "execution_count": null,
   "metadata": {},
   "outputs": [],
   "source": [
    "%load_ext autoreload\n",
    "\n",
    "import sys\n",
    "import os\n",
    "import pickle as pk\n",
    "\n",
    "import numpy as np\n",
    "import pandas as pd\n",
    "import matplotlib.pyplot as plt\n",
    "from mpl_toolkits.axes_grid1.axes_divider import make_axes_locatable\n",
    "\n",
    "from pathlib import Path\n",
    "path = Path(\"../spqubolib/\").resolve().as_posix()\n",
    "sys.path.append(path)\n",
    "if True:\n",
    "    from spqubolib.qmodel.spatial_qmodel_dense import spatial_qmodel_dense\n",
    "    from spqubolib.qubo import qubo\n",
    "    from spqubolib.solver import MA_solver\n",
    "\n",
    "from placement_experiment import get_J_and_h, timer\n",
    "from placement_plot import plot_runtime, plot_answer, plot_problem, composed_plot_problem_and_answer"
   ]
  },
  {
   "cell_type": "code",
   "execution_count": null,
   "metadata": {},
   "outputs": [],
   "source": [
    "flag_plot = True\n",
    "flag_run = False\n",
    "flag_comptime = False\n",
    "result_path = \"run\"\n",
    "comptime_path = \"comptime\"\n",
    "image_path = \"images\"\n",
    "\n",
    "STAGE = os.environ.get(\"STAGE\", \"\")\n",
    "print(\"STAGE ==\", STAGE)\n",
    "if STAGE==\"run\":\n",
    "    flag_plot = False\n",
    "    flag_run = True\n",
    "    flag_comptime = False\n",
    "    os.makedirs(result_path, exist_ok=True)\n",
    "elif STAGE==\"comptime\":\n",
    "    flag_plot = False\n",
    "    flag_run = False\n",
    "    flag_comptime = True\n",
    "    os.makedirs(comptime_path, exist_ok=True)\n",
    "elif STAGE==\"plot\":\n",
    "    flag_plot = True\n",
    "    flag_run = False\n",
    "    flag_comptime = False\n",
    "    os.makedirs(image_path, exist_ok=True)"
   ]
  },
  {
   "cell_type": "code",
   "execution_count": null,
   "metadata": {},
   "outputs": [],
   "source": [
    "#### parameters ####\n",
    "\n",
    "# problems\n",
    "\n",
    "W, H = 5, 5 # [length]\n",
    "r = 0.5 # [length]                 2R = 0.5\n",
    "\n",
    "coef_line = 10                   # c^(line) = 10\n",
    "lengthscale_line = 0.05 # [length] σ^(line) = 0.05\n",
    "lengthscale_blob = 0.3 # [length]  σ^(blob) = 0.3\n",
    "K_blob = 1000 #                    N^(blob) = 1000\n",
    "\n",
    "coef = 1\n",
    "density_ref = 50 / (W * H) # [number/area] K = 2\n",
    "pmin, pmax = 0, 1.5 #              c^(max) = 1.5\n",
    "const_placement_cost = pmin # [utility / number]\n",
    "coef_placement_cost = pmax - pmin # [utility / number]\n",
    "\n",
    "num_division_max = 40\n",
    "\n",
    "# experiment 1:\n",
    "\n",
    "K_long = 10000 # T = 10000\n",
    "seed = 0\n",
    "\n",
    "# experiment 2:\n",
    "\n",
    "K = 1000\n",
    "cutoff = {\n",
    "    \"fourier\": 40, # for fourier, B = 1, ..., 40\n",
    "    \"naive\": 13 # for naive , B = 1, ..., 13\n",
    "}\n",
    "num_trial = 25"
   ]
  },
  {
   "cell_type": "code",
   "execution_count": null,
   "metadata": {},
   "outputs": [],
   "source": [
    "n_list = list(np.arange(1, num_division_max + 1, 1))\n",
    "skip_list = [1/n for n in n_list]"
   ]
  },
  {
   "cell_type": "code",
   "execution_count": null,
   "metadata": {},
   "outputs": [],
   "source": [
    "%autoreload\n",
    "\n",
    "if flag_run:\n",
    "    sizes = {}\n",
    "    qmodels = {}\n",
    "    params = {}\n",
    "    for n, skip in zip(n_list, skip_list):\n",
    "        skip_y, skip_x = skip, skip\n",
    "        np.random.seed(0)\n",
    "        Wy, Wx, Ry, Rx, J_sp, h, placement_cost = \\\n",
    "            get_J_and_h(H, W,\n",
    "            skip_y, skip_x, \n",
    "            coef_line,\n",
    "            lengthscale_line, \n",
    "            lengthscale_blob, \n",
    "            K_blob,\n",
    "            r, \n",
    "            coef, \n",
    "            density_ref, \n",
    "            coef_placement_cost, \n",
    "            const_placement_cost)\n",
    "\n",
    "        print(\"Wy: \", Wy, \"Wx:\", Wx, \"Ry:\", Ry, \"Rx:\", Rx)\n",
    "\n",
    "        xi = np.ones_like(h)\n",
    "\n",
    "        qf = spatial_qmodel_dense(\n",
    "            Wy, Wx, Ry, Rx,\n",
    "            J_sp.astype(\"f\"), \n",
    "            h.astype(\"f\"), \n",
    "            xi.astype(\"f\"), \n",
    "            const=0, \n",
    "            mode=\"fourier\"\n",
    "        )\n",
    "\n",
    "        qmodels[n] = qf\n",
    "        sizes[n] = Wy * Wx\n",
    "        params[n] = (Wy, Wx, skip_y, skip_x, placement_cost)\n",
    "\n",
    "    with open(f\"{result_path}/problems_fixed_lines.pk\", \"wb\") as f:\n",
    "        pk.dump({\n",
    "                \"qmodels\": qmodels, \n",
    "                \"sizes\": sizes,\n",
    "                \"params\": params,\n",
    "                \"n_list\": n_list\n",
    "        }, file=f)"
   ]
  },
  {
   "cell_type": "code",
   "execution_count": null,
   "metadata": {},
   "outputs": [],
   "source": [
    "with open(f\"{result_path}/problems_fixed_lines.pk\", \"rb\") as f:\n",
    "    data = pk.load(f)\n",
    "    qmodels = data[\"qmodels\"]\n",
    "    sizes = data[\"sizes\"]\n",
    "    params = data[\"params\"]\n",
    "    n_list = n_list\n",
    "settings_largest = params[n_list[-1]]\n"
   ]
  },
  {
   "cell_type": "code",
   "execution_count": null,
   "metadata": {},
   "outputs": [],
   "source": [
    "%autoreload\n",
    "\n",
    "def run(mode, q, **kwargs):\n",
    "    q.set_mode(mode)\n",
    "\n",
    "    prob = qubo(q, mode=\"max\", vartype=\"binary\")\n",
    "\n",
    "    solver = MA_solver(\n",
    "        **kwargs\n",
    "    )\n",
    "\n",
    "    # solve and measure the time\n",
    "    with timer() as t:\n",
    "        spins, E = prob.solve(solver)\n",
    "    return t.t"
   ]
  },
  {
   "cell_type": "code",
   "execution_count": null,
   "metadata": {},
   "outputs": [],
   "source": [
    "%autoreload\n",
    "\n",
    "# solve the largest problem with the fourier version\n",
    "if flag_run:\n",
    "    def softplus(x):\n",
    "        return np.log(1 + np.exp(x))\n",
    "\n",
    "    def generate_T(K, log_initial_temperature, log_initial_temperature_decrease_relative, param_final_temperature_relative):\n",
    "        loge = np.log(1e-1) # theta_1 = 0.1 / 100 = 0.001, theta_2 = 0.1 * 1 = 0.1\n",
    "        # -T'(1) = T0/r = T0 * exp(-logr)\n",
    "        #   = T0 * exp(log_initial_temperature_decrease_relative)\n",
    "        logr = -log_initial_temperature_decrease_relative\n",
    "        param_b = param_final_temperature_relative\n",
    "        logT0 = log_initial_temperature\n",
    "        logK = np.log(K)\n",
    "\n",
    "        logb = param_b * (loge + logr)\n",
    "        logc = logb - (logK + logr)\n",
    "        b = np.exp(logb)\n",
    "        T0 = np.exp(logT0)\n",
    "\n",
    "        k = 1\n",
    "        while True:\n",
    "            if k == 1:\n",
    "                yield T0\n",
    "            else:\n",
    "                yield T0 * b / (b + softplus(logc + np.log(k-1)))\n",
    "            k = k + 1\n",
    "\n",
    "    def generate_p(K, p_initial, p_decrease_timescale_relative):\n",
    "        p_decrease_timescale = K * p_decrease_timescale_relative\n",
    "        k = 1\n",
    "        while True:\n",
    "            yield np.maximum(0, p_initial * (1 - k / p_decrease_timescale))\n",
    "            k = k + 1\n",
    "\n",
    "    def generate_c(K, c_increase_timescale_relative):\n",
    "        k = 1\n",
    "        c_increase_timescale = K * c_increase_timescale_relative\n",
    "        while True:\n",
    "            yield 1\n",
    "            k = k + 1\n",
    "\n",
    "    #### parameter after random search (20250417) #### \n",
    "    initial_temperature = 0.1 # T_0 = 0.1\n",
    "    initial_temperature_decrease_relative = 100 # theta_1 = 0.1 / 100 = 0.001\n",
    "    param_final_temperature_relative = 1 # theta_2 = 0.1 * 1 = 0.1\n",
    "    p_initial = 0.05 # p_0 = 0.05\n",
    "    p_decrease_timescale_relative = 1 \n",
    "    c_increase_timescale_relative = 1 # not working, because c = 1 is fixed\n",
    "\n",
    "    log_initial_temperature = np.log(initial_temperature)\n",
    "    log_initial_temperature_decrease_relative = \\\n",
    "        np.log(initial_temperature_decrease_relative)\n",
    "\n",
    "    run(\"fourier\", qmodels[n_list[-1]], \n",
    "        filename_log=f\"{result_path}/MA_log_20250417.npz\",\n",
    "        save_ignore=[\"I_log\"],\n",
    "        save_skip = K_long - 1,\n",
    "        K=K_long,\n",
    "        T_generator = generate_T(K_long, \n",
    "                                    log_initial_temperature, \n",
    "                                    log_initial_temperature_decrease_relative, \n",
    "                                    param_final_temperature_relative),\n",
    "\n",
    "        p_generator = generate_p(K_long, p_initial, p_decrease_timescale_relative),\n",
    "        c_generator = generate_c(K_long, c_increase_timescale_relative),\n",
    "    )\n"
   ]
  },
  {
   "cell_type": "code",
   "execution_count": null,
   "metadata": {},
   "outputs": [],
   "source": [
    "%autoreload\n",
    "\n",
    "# compare computational time fourier and naive version of spQUBO\n",
    "if flag_comptime:\n",
    "    ret = []\n",
    "\n",
    "    for mode in [\"fourier\", \"naive\"]:\n",
    "        for n in n_list:\n",
    "            q = qmodels[n]\n",
    "            print(\"n, cutoff:\", n, cutoff[mode])\n",
    "            if n < cutoff[mode]:\n",
    "                for i in range(num_trial):\n",
    "                    print(f\"#### trial {i} ({mode}, n={n}) ####\")\n",
    "                    # run MA with default parameter, because we are only interested in the time rather than solution here\n",
    "                    t = run(mode, q, verbose=False) \n",
    "                    ret.append((i, n, sizes[n], mode, t))\n",
    "\n",
    "    ret = pd.DataFrame(ret, columns=[\"trial\", \"n\",\"size\", \"mode\", \"time\"])\n",
    "    with open(f\"{comptime_path}/comp_time_20250417.pk\", \"wb\") as f:\n",
    "        pk.dump(ret, file=f)\n"
   ]
  },
  {
   "attachments": {},
   "cell_type": "markdown",
   "metadata": {},
   "source": [
    "**memo**\n",
    "It takes 65 mins for `comptime` with\n",
    "```\n",
    "K = 1000\n",
    "cutoff = {\n",
    "    \"fourier\": 40,\n",
    "    \"naive\": 11\n",
    "}\n",
    "num_trial = 25\n",
    "```\n",
    "\n",
    "-> Experiment size is increaset to `\"naive\": 13`"
   ]
  },
  {
   "cell_type": "markdown",
   "metadata": {},
   "source": [
    "# Plot\n",
    "\n",
    "## Plot runtime"
   ]
  },
  {
   "cell_type": "code",
   "execution_count": null,
   "metadata": {},
   "outputs": [],
   "source": [
    "%autoreload\n",
    "\n",
    "if flag_plot:\n",
    "    with open(f\"{comptime_path}/comp_time_20250417.pk\", \"rb\") as f:\n",
    "        ret = pk.load(f)\n",
    "    plot_runtime(ret, f\"{image_path}/runtime_20230611.png\")\n",
    "    plot_runtime(ret, f\"{image_path}/runtime_20230611.pdf\")\n"
   ]
  },
  {
   "cell_type": "markdown",
   "metadata": {},
   "source": [
    "## Plot answer"
   ]
  },
  {
   "cell_type": "code",
   "execution_count": null,
   "metadata": {},
   "outputs": [],
   "source": [
    "%autoreload\n",
    "\n",
    "if flag_plot:\n",
    "    data = np.load(f\"{result_path}/MA_log_20250417.npz\")\n",
    "    s_log = (data[\"s_log\"] + 1 ) / 2\n",
    "\n",
    "    plot_answer(s_log[-1, :], settings_largest, f\"{image_path}/placement_final.png\")\n"
   ]
  },
  {
   "attachments": {},
   "cell_type": "markdown",
   "metadata": {},
   "source": [
    "## Plot problem"
   ]
  },
  {
   "cell_type": "code",
   "execution_count": null,
   "metadata": {},
   "outputs": [],
   "source": [
    "q = qmodels[n_list[-1]]"
   ]
  },
  {
   "cell_type": "code",
   "execution_count": null,
   "metadata": {},
   "outputs": [],
   "source": [
    "print(\"problem size:\", q.Lx, q.Ly)\n",
    "display(pd.DataFrame(q.J.ravel()).quantile([0.01,0.05,0.95,0.99]))\n",
    "display(pd.DataFrame(q.get_f_J().ravel()).quantile([0.01,0.05,0.95,0.99]))"
   ]
  },
  {
   "cell_type": "code",
   "execution_count": null,
   "metadata": {},
   "outputs": [],
   "source": [
    "%autoreload\n",
    "\n",
    "if flag_plot:\n",
    "    plot_problem(q, f\"{image_path}/mapping.png\")"
   ]
  },
  {
   "cell_type": "markdown",
   "metadata": {},
   "source": [
    "## Composed plot"
   ]
  },
  {
   "cell_type": "code",
   "execution_count": null,
   "metadata": {},
   "outputs": [],
   "source": [
    "%autoreload\n",
    "\n",
    "if flag_plot:\n",
    "    composed_plot_problem_and_answer(q, s_log[-1, :], settings_largest, f\"{image_path}/composed_plot.png\")"
   ]
  }
 ],
 "metadata": {
  "kernelspec": {
   "display_name": "Python 3",
   "language": "python",
   "name": "python3"
  },
  "language_info": {
   "codemirror_mode": {
    "name": "ipython",
    "version": 3
   },
   "file_extension": ".py",
   "mimetype": "text/x-python",
   "name": "python",
   "nbconvert_exporter": "python",
   "pygments_lexer": "ipython3",
   "version": "3.11.12"
  },
  "orig_nbformat": 4
 },
 "nbformat": 4,
 "nbformat_minor": 2
}
